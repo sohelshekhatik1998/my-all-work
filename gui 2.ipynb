{
 "cells": [
  {
   "cell_type": "code",
   "execution_count": 5,
   "id": "f72d2e93",
   "metadata": {},
   "outputs": [],
   "source": [
    "from tkinter import *\n",
    "import time\n",
    "\n",
    "root= Tk()\n",
    "root.geometry(\"400x100\")\n",
    "root.config(bg='black')\n",
    "\n",
    "def update():\n",
    "    clock.config(text=time.strftime(\"%I:%M:%S\"))\n",
    "    clock.after(1000,update)\n",
    "\n",
    "\n",
    "clock = Label(root, background = 'black',foreground = 'white', font = ('arial', 40, 'bold'))\n",
    "clock.pack()\n",
    "update()\n",
    "root.title('clock')\n",
    "root.mainloop()"
   ]
  },
  {
   "cell_type": "code",
   "execution_count": 8,
   "id": "44e42fcb",
   "metadata": {},
   "outputs": [
    {
     "name": "stderr",
     "output_type": "stream",
     "text": [
      "Exception in Tkinter callback\n",
      "Traceback (most recent call last):\n",
      "  File \"C:\\Users\\SHAIKH SOHEL\\anaconda3\\lib\\tkinter\\__init__.py\", line 1892, in __call__\n",
      "    return self.func(*args)\n",
      "  File \"C:\\Users\\SHAIKH SOHEL\\anaconda3\\lib\\tkinter\\__init__.py\", line 814, in callit\n",
      "    func(*args)\n",
      "  File \"C:\\Users\\SHAIKH~1\\AppData\\Local\\Temp/ipykernel_572/543594456.py\", line 9, in update\n",
      "    color_changer.config(background ='#' + color)\n",
      "  File \"C:\\Users\\SHAIKH SOHEL\\anaconda3\\lib\\tkinter\\__init__.py\", line 1646, in configure\n",
      "    return self._configure('configure', cnf, kw)\n",
      "  File \"C:\\Users\\SHAIKH SOHEL\\anaconda3\\lib\\tkinter\\__init__.py\", line 1636, in _configure\n",
      "    self.tk.call(_flatten((self._w, cmd)) + self._options(cnf))\n",
      "_tkinter.TclError: invalid color name \"#d9ca8\"\n"
     ]
    }
   ],
   "source": [
    "#color changing bg\n",
    "from tkinter import *\n",
    "from random import randint\n",
    "\n",
    "color_changer= Tk()\n",
    "\n",
    "def update():\n",
    "    color=\"%05x\" %randint(0,0xFFFFFF)\n",
    "    color_changer.config(background ='#' + color)\n",
    "    color_changer.after(1000, update)\n",
    "\n",
    "update()\n",
    "color_changer.title('color')\n",
    "color_changer.geometry(\"400x400\")\n",
    "color_changer.mainloop()   "
   ]
  },
  {
   "cell_type": "code",
   "execution_count": 15,
   "id": "2025d3e0",
   "metadata": {},
   "outputs": [],
   "source": [
    "from tkinter import *\n",
    "\n",
    "win = Tk() # This is to create a basic window\n",
    "win.geometry(\"312x324\")  # this is for the size of the window \n",
    "win.resizable(0, 0)  # this is to prevent from resizing the window\n",
    "win.title(\"Calculator\")\n",
    "\n",
    "###################Starting with functions ####################\n",
    "# 'btn_click' function : \n",
    "# This Function continuously updates the \n",
    "# input field whenever you enter a number\n",
    "\n",
    "def btn_click(item):\n",
    "    global expression\n",
    "    expression = expression + str(item)\n",
    "    input_text.set(expression)\n",
    "\n",
    "# 'bt_clear' function :This is used to clear \n",
    "# the input field\n",
    "\n",
    "def bt_clear(): \n",
    "    global expression \n",
    "    expression = \"\" \n",
    "    input_text.set(\"\")\n",
    " \n",
    "# 'bt_equal':This method calculates the expression \n",
    "# present in input field\n",
    " \n",
    "def bt_equal():\n",
    "    global expression\n",
    "    result = str(eval(expression)) # 'eval':This function is used to evaluates the string expression directly\n",
    "    input_text.set(result)\n",
    "    expression = \"\"\n",
    " \n",
    "expression = \"\"\n",
    " \n",
    "# 'StringVar()' :It is used to get the instance of input field\n",
    " \n",
    "input_text = StringVar()\n",
    " \n",
    "# Let us creating a frame for the input field\n",
    " \n",
    "input_frame = Frame(win, width=312, height=50, bd=0, highlightbackground=\"black\", highlightcolor=\"black\", highlightthickness=2)\n",
    " \n",
    "input_frame.pack(side=TOP)\n",
    " \n",
    "#Let us create a input field inside the 'Frame'\n",
    " \n",
    "input_field = Entry(input_frame, font=('arial', 18, 'bold'), textvariable=input_text, width=50, bg=\"#eee\", bd=0, justify=RIGHT)\n",
    " \n",
    "input_field.grid(row=0, column=0)\n",
    " \n",
    "input_field.pack(ipady=10) # 'ipady' is internal padding to increase the height of input field\n",
    " \n",
    "#Let us creating another 'Frame' for the button below the 'input_frame'\n",
    " \n",
    "btns_frame = Frame(win, width=312, height=272.5, bg=\"grey\")\n",
    " \n",
    "btns_frame.pack()\n",
    " \n",
    "# first row\n",
    " \n",
    "clear = Button(btns_frame, text = \"C\", fg = \"black\", width = 32, height = 3, bd = 0, bg = \"#eee\", cursor = \"hand2\", command = lambda: bt_clear()).grid(row = 0, column = 0, columnspan = 3, padx = 1, pady = 1)\n",
    " \n",
    "divide = Button(btns_frame, text = \"/\", fg = \"black\", width = 10, height = 3, bd = 0, bg = \"#eee\", cursor = \"hand2\", command = lambda: btn_click(\"/\")).grid(row = 0, column = 3, padx = 1, pady = 1)\n",
    " \n",
    "# second row\n",
    " \n",
    "seven = Button(btns_frame, text = \"7\", fg = \"black\", width = 10, height = 3, bd = 0, bg = \"#fff\", cursor = \"hand2\", command = lambda: btn_click(7)).grid(row = 1, column = 0, padx = 1, pady = 1)\n",
    " \n",
    "eight = Button(btns_frame, text = \"8\", fg = \"black\", width = 10, height = 3, bd = 0, bg = \"#fff\", cursor = \"hand2\", command = lambda: btn_click(8)).grid(row = 1, column = 1, padx = 1, pady = 1)\n",
    " \n",
    "nine = Button(btns_frame, text = \"9\", fg = \"black\", width = 10, height = 3, bd = 0, bg = \"#fff\", cursor = \"hand2\", command = lambda: btn_click(9)).grid(row = 1, column = 2, padx = 1, pady = 1)\n",
    " \n",
    "multiply = Button(btns_frame, text = \"*\", fg = \"black\", width = 10, height = 3, bd = 0, bg = \"#eee\", cursor = \"hand2\", command = lambda: btn_click(\"*\")).grid(row = 1, column = 3, padx = 1, pady = 1)\n",
    " \n",
    "# third row\n",
    " \n",
    "four = Button(btns_frame, text = \"4\", fg = \"black\", width = 10, height = 3, bd = 0, bg = \"#fff\", cursor = \"hand2\", command = lambda: btn_click(4)).grid(row = 2, column = 0, padx = 1, pady = 1)\n",
    " \n",
    "five = Button(btns_frame, text = \"5\", fg = \"black\", width = 10, height = 3, bd = 0, bg = \"#fff\", cursor = \"hand2\", command = lambda: btn_click(5)).grid(row = 2, column = 1, padx = 1, pady = 1)\n",
    " \n",
    "six = Button(btns_frame, text = \"6\", fg = \"black\", width = 10, height = 3, bd = 0, bg = \"#fff\", cursor = \"hand2\", command = lambda: btn_click(6)).grid(row = 2, column = 2, padx = 1, pady = 1)\n",
    " \n",
    "minus = Button(btns_frame, text = \"-\", fg = \"black\", width = 10, height = 3, bd = 0, bg = \"#eee\", cursor = \"hand2\", command = lambda: btn_click(\"-\")).grid(row = 2, column = 3, padx = 1, pady = 1)\n",
    " \n",
    "# fourth row\n",
    " \n",
    "one = Button(btns_frame, text = \"1\", fg = \"black\", width = 10, height = 3, bd = 0, bg = \"#fff\", cursor = \"hand2\", command = lambda: btn_click(1)).grid(row = 3, column = 0, padx = 1, pady = 1)\n",
    " \n",
    "two = Button(btns_frame, text = \"2\", fg = \"black\", width = 10, height = 3, bd = 0, bg = \"#fff\", cursor = \"hand2\", command = lambda: btn_click(2)).grid(row = 3, column = 1, padx = 1, pady = 1)\n",
    " \n",
    "three = Button(btns_frame, text = \"3\", fg = \"black\", width = 10, height = 3, bd = 0, bg = \"#fff\", cursor = \"hand2\", command = lambda: btn_click(3)).grid(row = 3, column = 2, padx = 1, pady = 1)\n",
    " \n",
    "plus = Button(btns_frame, text = \"+\", fg = \"black\", width = 10, height = 3, bd = 0, bg = \"#eee\", cursor = \"hand2\", command = lambda: btn_click(\"+\")).grid(row = 3, column = 3, padx = 1, pady = 1)\n",
    " \n",
    "# fourth row\n",
    " \n",
    "zero = Button(btns_frame, text = \"0\", fg = \"black\", width = 21, height = 3, bd = 0, bg = \"#fff\", cursor = \"hand2\", command = lambda: btn_click(0)).grid(row = 4, column = 0, columnspan = 2, padx = 1, pady = 1)\n",
    " \n",
    "point = Button(btns_frame, text = \".\", fg = \"black\", width = 10, height = 3, bd = 0, bg = \"#eee\", cursor = \"hand2\", command = lambda: btn_click(\".\")).grid(row = 4, column = 2, padx = 1, pady = 1)\n",
    " \n",
    "equals = Button(btns_frame, text = \"=\", fg = \"black\", width = 10, height = 3, bd = 0, bg = \"#eee\", cursor = \"hand2\", command = lambda: bt_equal()).grid(row = 4, column = 3, padx = 1, pady = 1)\n",
    " \n",
    "win.mainloop()\n"
   ]
  },
  {
   "cell_type": "code",
   "execution_count": 9,
   "id": "be59eb20",
   "metadata": {},
   "outputs": [],
   "source": [
    "#alert\n",
    "from tkinter import *\n",
    "from tkinter import messagebox\n",
    "\n",
    "root =Tk()\n",
    "root.geometry(\"200x200\")\n",
    "def msg():\n",
    "    messagebox.showwarning(\"Alert Box\",\"Stop learning its luch time\")\n",
    "\n",
    "\n",
    "but= Button(root,text=\"ok\",command=msg)\n",
    "but.place(x=100,y=100)\n",
    "root.mainloop()       "
   ]
  },
  {
   "cell_type": "code",
   "execution_count": 10,
   "id": "e7bb9a68",
   "metadata": {},
   "outputs": [],
   "source": [
    "#password generstion\n",
    "from tkinter import *\n",
    "import random\n",
    "import string\n",
    "\n",
    "\n",
    "def gen():\n",
    "    password= []\n",
    "    for i in range(4):\n",
    "        lower=random.choice(string.ascii_lowercase)\n",
    "        upper=random.choice(string.ascii_uppercase)\n",
    "        password.append(lower)\n",
    "        password.append(upper)\n",
    "        passs=\" \".join(str(x)for x in password)\n",
    "        label.config(text=passs)\n",
    "\n",
    "root =Tk()\n",
    "label = Label(root, font = ('arial', 40, 'bold'))\n",
    "label.pack()\n",
    "button1 =Button(root,text=\"Generate\", font = ('arial', 40, 'bold'),command= gen). place(x=100,y=200)                       \n",
    "root.geometry(\"500x500\")\n",
    "root.title(\"password \")\n",
    "root.mainloop()"
   ]
  },
  {
   "cell_type": "code",
   "execution_count": 14,
   "id": "6a554b7b",
   "metadata": {},
   "outputs": [
    {
     "name": "stdout",
     "output_type": "stream",
     "text": [
      "Requirement already satisfied: wikipedia in c:\\users\\shaikh sohel\\anaconda3\\lib\\site-packages (1.4.0)\n",
      "Requirement already satisfied: requests<3.0.0,>=2.0.0 in c:\\users\\shaikh sohel\\anaconda3\\lib\\site-packages (from wikipedia) (2.27.1)\n",
      "Requirement already satisfied: beautifulsoup4 in c:\\users\\shaikh sohel\\anaconda3\\lib\\site-packages (from wikipedia) (4.10.0)\n",
      "Requirement already satisfied: charset-normalizer~=2.0.0 in c:\\users\\shaikh sohel\\anaconda3\\lib\\site-packages (from requests<3.0.0,>=2.0.0->wikipedia) (2.0.4)\n",
      "Requirement already satisfied: certifi>=2017.4.17 in c:\\users\\shaikh sohel\\anaconda3\\lib\\site-packages (from requests<3.0.0,>=2.0.0->wikipedia) (2021.10.8)\n",
      "Requirement already satisfied: urllib3<1.27,>=1.21.1 in c:\\users\\shaikh sohel\\anaconda3\\lib\\site-packages (from requests<3.0.0,>=2.0.0->wikipedia) (1.26.7)\n",
      "Requirement already satisfied: idna<4,>=2.5 in c:\\users\\shaikh sohel\\anaconda3\\lib\\site-packages (from requests<3.0.0,>=2.0.0->wikipedia) (3.2)\n",
      "Requirement already satisfied: soupsieve>1.2 in c:\\users\\shaikh sohel\\anaconda3\\lib\\site-packages (from beautifulsoup4->wikipedia) (2.2.1)\n"
     ]
    }
   ],
   "source": [
    "!pip3 install wikipedia"
   ]
  },
  {
   "cell_type": "code",
   "execution_count": 12,
   "id": "8140605c",
   "metadata": {},
   "outputs": [
    {
     "name": "stderr",
     "output_type": "stream",
     "text": [
      "C:\\Users\\SHAIKH SOHEL\\anaconda3\\lib\\site-packages\\requests\\__init__.py:102: RequestsDependencyWarning: urllib3 (1.26.7) or chardet (2.0.3)/charset_normalizer (2.0.4) doesn't match a supported version!\n",
      "  warnings.warn(\"urllib3 ({}) or chardet ({})/charset_normalizer ({}) doesn't match a supported \"\n"
     ]
    }
   ],
   "source": [
    "from tkinter import *\n",
    "import wikipedia\n",
    "\n",
    "root = Tk()\n",
    "root.title(\"Wiki\")\n",
    "root.geometry(\"400x400\")\n",
    "\n",
    "frame = Frame(root)\n",
    "input = Entry(frame, width = 50)\n",
    "input.pack()\n",
    "result = ''\n",
    "text = Text(root, font = ('ariel',20))\n",
    "\n",
    "def search():\n",
    "     global result\n",
    "     result = input.get()\n",
    "     summary = wikipedia.summary(result, sentences=3)\n",
    "     text.insert('1.0',summary)\n",
    "\n",
    "\n",
    "button = Button(frame, text = 'Search', command = search)                                                 \n",
    "button.pack(side = RIGHT)"
   ]
  },
  {
   "cell_type": "code",
   "execution_count": 16,
   "id": "de50a053",
   "metadata": {},
   "outputs": [
    {
     "name": "stdout",
     "output_type": "stream",
     "text": [
      "Collecting plyer\n",
      "  Downloading plyer-2.0.0-py2.py3-none-any.whl (131 kB)\n",
      "     ------------------------------------ 131.4/131.4 KB 336.4 kB/s eta 0:00:00\n",
      "Installing collected packages: plyer\n",
      "Successfully installed plyer-2.0.0\n"
     ]
    }
   ],
   "source": [
    "!pip3 install plyer"
   ]
  },
  {
   "cell_type": "code",
   "execution_count": null,
   "id": "7ebbc5ac",
   "metadata": {},
   "outputs": [],
   "source": []
  }
 ],
 "metadata": {
  "kernelspec": {
   "display_name": "Python 3 (ipykernel)",
   "language": "python",
   "name": "python3"
  },
  "language_info": {
   "codemirror_mode": {
    "name": "ipython",
    "version": 3
   },
   "file_extension": ".py",
   "mimetype": "text/x-python",
   "name": "python",
   "nbconvert_exporter": "python",
   "pygments_lexer": "ipython3",
   "version": "3.9.7"
  }
 },
 "nbformat": 4,
 "nbformat_minor": 5
}
