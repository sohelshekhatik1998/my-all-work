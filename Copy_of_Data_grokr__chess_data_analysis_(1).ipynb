{
  "cells": [
    {
      "cell_type": "markdown",
      "metadata": {
        "id": "view-in-github",
        "colab_type": "text"
      },
      "source": [
        "<a href=\"https://colab.research.google.com/github/sohelshekhatik1998/my-all-work/blob/main/Copy_of_Data_grokr__chess_data_analysis_(1).ipynb\" target=\"_parent\"><img src=\"https://colab.research.google.com/assets/colab-badge.svg\" alt=\"Open In Colab\"/></a>"
      ]
    },
    {
      "cell_type": "markdown",
      "source": [
        "##SECTION-1"
      ],
      "metadata": {
        "id": "VmMJGs12KibD"
      }
    },
    {
      "cell_type": "code",
      "source": [
        "!apt-get update -y"
      ],
      "metadata": {
        "colab": {
          "base_uri": "https://localhost:8080/"
        },
        "id": "PANfUsfLFE6V",
        "outputId": "f01c57c2-4ff6-4fde-96c5-5961d812f90f"
      },
      "execution_count": 1,
      "outputs": [
        {
          "output_type": "stream",
          "name": "stdout",
          "text": [
            "Hit:1 https://cloud.r-project.org/bin/linux/ubuntu bionic-cran40/ InRelease\n",
            "Hit:2 http://security.ubuntu.com/ubuntu bionic-security InRelease\n",
            "Ign:3 https://developer.download.nvidia.com/compute/machine-learning/repos/ubuntu1804/x86_64  InRelease\n",
            "Hit:4 https://developer.download.nvidia.com/compute/cuda/repos/ubuntu1804/x86_64  InRelease\n",
            "Hit:5 https://developer.download.nvidia.com/compute/machine-learning/repos/ubuntu1804/x86_64  Release\n",
            "Hit:6 http://archive.ubuntu.com/ubuntu bionic InRelease\n",
            "Hit:7 http://ppa.launchpad.net/c2d4u.team/c2d4u4.0+/ubuntu bionic InRelease\n",
            "Hit:8 http://archive.ubuntu.com/ubuntu bionic-updates InRelease\n",
            "Hit:9 http://archive.ubuntu.com/ubuntu bionic-backports InRelease\n",
            "Hit:10 http://ppa.launchpad.net/cran/libgit2/ubuntu bionic InRelease\n",
            "Hit:12 http://ppa.launchpad.net/deadsnakes/ppa/ubuntu bionic InRelease\n",
            "Hit:13 http://ppa.launchpad.net/graphics-drivers/ppa/ubuntu bionic InRelease\n",
            "Reading package lists... Done\n"
          ]
        }
      ]
    },
    {
      "cell_type": "code",
      "source": [
        "!apt-get install openjdk-8-jdk-headless -qq > /dev/null"
      ],
      "metadata": {
        "id": "E42d2FOuFFEW"
      },
      "execution_count": 2,
      "outputs": []
    },
    {
      "cell_type": "code",
      "source": [
        "!wget -q https://archive.apache.org/dist/spark/spark-3.1.2/spark-3.1.2-bin-hadoop2.7.tgz"
      ],
      "metadata": {
        "id": "dakaD1M9FFJa"
      },
      "execution_count": null,
      "outputs": []
    },
    {
      "cell_type": "code",
      "source": [
        "!tar xf spark-3.1.2-bin-hadoop2.7.tgz"
      ],
      "metadata": {
        "id": "zPwx5S4nFFMo"
      },
      "execution_count": null,
      "outputs": []
    },
    {
      "cell_type": "code",
      "source": [
        "!apt-get install openjdk-8-jdk-headless -qq > /dev/null"
      ],
      "metadata": {
        "id": "qxKB1TkOFFP5"
      },
      "execution_count": 5,
      "outputs": []
    },
    {
      "cell_type": "code",
      "source": [
        "!wget -q https://archive.apache.org/dist/spark/spark-3.1.2/spark-3.1.2-bin-hadoop2.7.tgz"
      ],
      "metadata": {
        "id": "TVx2qOBqFFS3",
        "colab": {
          "base_uri": "https://localhost:8080/"
        },
        "outputId": "b1618e8a-9b19-42d4-d8ce-a4d3c3adfcd3"
      },
      "execution_count": 6,
      "outputs": [
        {
          "output_type": "stream",
          "name": "stdout",
          "text": [
            "^C\n"
          ]
        }
      ]
    },
    {
      "cell_type": "code",
      "source": [
        "!tar xf spark-3.1.2-bin-hadoop2.7.tgz"
      ],
      "metadata": {
        "id": "WPtUH2FEFFWb",
        "colab": {
          "base_uri": "https://localhost:8080/"
        },
        "outputId": "b92a51b1-5254-4c14-e914-badc79bbbc28"
      },
      "execution_count": 7,
      "outputs": [
        {
          "output_type": "stream",
          "name": "stdout",
          "text": [
            "\n",
            "gzip: stdin: unexpected end of file\n",
            "tar: Unexpected EOF in archive\n",
            "tar: Unexpected EOF in archive\n",
            "tar: Error is not recoverable: exiting now\n"
          ]
        }
      ]
    },
    {
      "cell_type": "code",
      "source": [
        "import os\n",
        "os.environ[\"JAVA_HOME\"] = \"/usr/lib/jvm/java-8-openjdk-amd64\"\n",
        "os.environ[\"SPARK_HOME\"] = \"/content/spark-3.1.2-bin-hadoop2.7\""
      ],
      "metadata": {
        "id": "yR90RE93Fbdo"
      },
      "execution_count": 8,
      "outputs": []
    },
    {
      "cell_type": "code",
      "source": [
        "!pip install -q findspark\n",
        "import findspark\n",
        "findspark.init()"
      ],
      "metadata": {
        "id": "cGd7QAdsFbhS",
        "colab": {
          "base_uri": "https://localhost:8080/",
          "height": 432
        },
        "outputId": "c9663e07-ab93-45ae-c9a6-bc8b50a5f5d1"
      },
      "execution_count": 10,
      "outputs": [
        {
          "output_type": "error",
          "ename": "Exception",
          "evalue": "ignored",
          "traceback": [
            "\u001b[0;31m---------------------------------------------------------------------------\u001b[0m",
            "\u001b[0;31mIndexError\u001b[0m                                Traceback (most recent call last)",
            "\u001b[0;32m/usr/local/lib/python3.7/dist-packages/findspark.py\u001b[0m in \u001b[0;36minit\u001b[0;34m(spark_home, python_path, edit_rc, edit_profile)\u001b[0m\n\u001b[1;32m    158\u001b[0m         \u001b[0;32mtry\u001b[0m\u001b[0;34m:\u001b[0m\u001b[0;34m\u001b[0m\u001b[0;34m\u001b[0m\u001b[0m\n\u001b[0;32m--> 159\u001b[0;31m             \u001b[0mpy4j\u001b[0m \u001b[0;34m=\u001b[0m \u001b[0mglob\u001b[0m\u001b[0;34m(\u001b[0m\u001b[0mos\u001b[0m\u001b[0;34m.\u001b[0m\u001b[0mpath\u001b[0m\u001b[0;34m.\u001b[0m\u001b[0mjoin\u001b[0m\u001b[0;34m(\u001b[0m\u001b[0mspark_python\u001b[0m\u001b[0;34m,\u001b[0m \u001b[0;34m\"lib\"\u001b[0m\u001b[0;34m,\u001b[0m \u001b[0;34m\"py4j-*.zip\"\u001b[0m\u001b[0;34m)\u001b[0m\u001b[0;34m)\u001b[0m\u001b[0;34m[\u001b[0m\u001b[0;36m0\u001b[0m\u001b[0;34m]\u001b[0m\u001b[0;34m\u001b[0m\u001b[0;34m\u001b[0m\u001b[0m\n\u001b[0m\u001b[1;32m    160\u001b[0m         \u001b[0;32mexcept\u001b[0m \u001b[0mIndexError\u001b[0m\u001b[0;34m:\u001b[0m\u001b[0;34m\u001b[0m\u001b[0;34m\u001b[0m\u001b[0m\n",
            "\u001b[0;31mIndexError\u001b[0m: list index out of range",
            "\nDuring handling of the above exception, another exception occurred:\n",
            "\u001b[0;31mException\u001b[0m                                 Traceback (most recent call last)",
            "\u001b[0;32m<ipython-input-10-d4ed445a447a>\u001b[0m in \u001b[0;36m<module>\u001b[0;34m\u001b[0m\n\u001b[1;32m      1\u001b[0m \u001b[0mget_ipython\u001b[0m\u001b[0;34m(\u001b[0m\u001b[0;34m)\u001b[0m\u001b[0;34m.\u001b[0m\u001b[0msystem\u001b[0m\u001b[0;34m(\u001b[0m\u001b[0;34m'pip install -q findspark'\u001b[0m\u001b[0;34m)\u001b[0m\u001b[0;34m\u001b[0m\u001b[0;34m\u001b[0m\u001b[0m\n\u001b[1;32m      2\u001b[0m \u001b[0;32mimport\u001b[0m \u001b[0mfindspark\u001b[0m\u001b[0;34m\u001b[0m\u001b[0;34m\u001b[0m\u001b[0m\n\u001b[0;32m----> 3\u001b[0;31m \u001b[0mfindspark\u001b[0m\u001b[0;34m.\u001b[0m\u001b[0minit\u001b[0m\u001b[0;34m(\u001b[0m\u001b[0;34m)\u001b[0m\u001b[0;34m\u001b[0m\u001b[0;34m\u001b[0m\u001b[0m\n\u001b[0m",
            "\u001b[0;32m/usr/local/lib/python3.7/dist-packages/findspark.py\u001b[0m in \u001b[0;36minit\u001b[0;34m(spark_home, python_path, edit_rc, edit_profile)\u001b[0m\n\u001b[1;32m    161\u001b[0m             raise Exception(\n\u001b[1;32m    162\u001b[0m                 \"Unable to find py4j in {}, your SPARK_HOME may not be configured correctly\".format(\n\u001b[0;32m--> 163\u001b[0;31m                     \u001b[0mspark_python\u001b[0m\u001b[0;34m\u001b[0m\u001b[0;34m\u001b[0m\u001b[0m\n\u001b[0m\u001b[1;32m    164\u001b[0m                 )\n\u001b[1;32m    165\u001b[0m             )\n",
            "\u001b[0;31mException\u001b[0m: Unable to find py4j in /content/spark-3.1.2-bin-hadoop2.7/python, your SPARK_HOME may not be configured correctly"
          ]
        }
      ]
    },
    {
      "cell_type": "code",
      "source": [
        "from pyspark.sql import SparkSession\n",
        "spark = (SparkSession\n",
        ".builder\n",
        ".appName(\"<app_name>\")\n",
        ".getOrCreate())"
      ],
      "metadata": {
        "id": "-fnwUe5EFbmg"
      },
      "execution_count": null,
      "outputs": []
    },
    {
      "cell_type": "code",
      "source": [
        "!pip install gdown"
      ],
      "metadata": {
        "id": "z6dwtybdFnaD"
      },
      "execution_count": null,
      "outputs": []
    },
    {
      "cell_type": "code",
      "source": [
        "import gdown\n",
        "\n",
        "# a file\n",
        "url = \"https://drive.google.com/drive/folders/1QgWPHV_l25Ui9L7et8mkZohAOG59UTkQ\"\n",
        "output = \"fcn8s_from_caffe.npz\"\n",
        "gdown.download(url, output, quiet=False)"
      ],
      "metadata": {
        "id": "F8OUav7JFndn"
      },
      "execution_count": null,
      "outputs": []
    },
    {
      "cell_type": "code",
      "source": [
        "# a folder\n",
        "url = \"https://drive.google.com/drive/folders/1QgWPHV_l25Ui9L7et8mkZohAOG59UTkQ\"\n",
        "gdown.download_folder(url, quiet=True, use_cookies=False)"
      ],
      "metadata": {
        "id": "3Gwbo6g8FntX"
      },
      "execution_count": null,
      "outputs": []
    },
    {
      "cell_type": "code",
      "source": [
        "id = \"15uNXeRBIhVvZJIhL4yTw4IsStMhUaaxl\"\n",
        "gdown.download_folder(id=id, quiet=True, use_cookies=False)"
      ],
      "metadata": {
        "id": "l2wFEkuyFnxD"
      },
      "execution_count": null,
      "outputs": []
    },
    {
      "cell_type": "markdown",
      "source": [
        "##SECTION-2"
      ],
      "metadata": {
        "id": "IdF2EroLKwgD"
      }
    },
    {
      "cell_type": "code",
      "source": [
        "import cv2 as cv\n",
        "from google.colab.patches import cv2_imshow\n",
        "from skimage import io\n",
        "import pandas as pd"
      ],
      "metadata": {
        "id": "O2nJxs0dFn1q"
      },
      "execution_count": null,
      "outputs": []
    },
    {
      "cell_type": "code",
      "source": [
        "img = io.imread('/content/chess/chess_schema.png')\n",
        "cv2_imshow(img)"
      ],
      "metadata": {
        "id": "abXTv102Fn49"
      },
      "execution_count": null,
      "outputs": []
    },
    {
      "cell_type": "code",
      "source": [
        "#groupedDF = df.groupby('result',sort=False)['event',\"white_first_name\"].count()\n",
        "#sortedDF=groupedDF.sort_values('black', ascending=False)['event']\n",
        "#print(groupedDF)\n",
        "#df2=df.loc[(df.result== '0-1') | (df.result=='1-0')] \n",
        "#df2.head()"
      ],
      "metadata": {
        "id": "yFJreQq9F9dD"
      },
      "execution_count": null,
      "outputs": []
    },
    {
      "cell_type": "code",
      "execution_count": null,
      "metadata": {
        "id": "qU8QVaiRyEla"
      },
      "outputs": [],
      "source": [
        "game_info = pd.read_csv('/content/chess/chess_wc_history_game_info.csv')\n",
        "\n",
        "game_info.head()\n"
      ]
    },
    {
      "cell_type": "code",
      "execution_count": null,
      "metadata": {
        "id": "OptC0RvIyElc"
      },
      "outputs": [],
      "source": [
        "eco_df = pd.read_csv(\"/content/chess/eco_codes.csv\")\n",
        "eco_df.head()"
      ]
    },
    {
      "cell_type": "code",
      "execution_count": null,
      "metadata": {
        "id": "4ATPhoZcyEle"
      },
      "outputs": [],
      "source": [
        "moves_df = pd.read_csv(\"/content/chess/chess_wc_history_moves.csv\")\n",
        "moves_df.head()"
      ]
    },
    {
      "cell_type": "code",
      "execution_count": null,
      "metadata": {
        "id": "OWVTJvFGyElf"
      },
      "outputs": [],
      "source": [
        "game_info.info()"
      ]
    },
    {
      "cell_type": "code",
      "execution_count": null,
      "metadata": {
        "id": "psTEKqUlyElh"
      },
      "outputs": [],
      "source": [
        "game_info.tournament_name.nunique()"
      ]
    },
    {
      "cell_type": "code",
      "execution_count": null,
      "metadata": {
        "id": "BiCtKSDCyEli"
      },
      "outputs": [],
      "source": [
        "# convert to datetime\n",
        "\n",
        "# df.date_played = pd.to_datetime(df.date_played)\n",
        "game_info.date_created = pd.to_datetime(game_info.date_created)\n",
        "# data played has missing values, dropping it is better\n",
        "game_info = game_info.drop(columns=['date_played'])\n"
      ]
    },
    {
      "cell_type": "code",
      "execution_count": null,
      "metadata": {
        "id": "DLF6NTuoyElk"
      },
      "outputs": [],
      "source": [
        "game_info[['white_result', 'black_result']] = game_info['result'].str.split('-', expand=True)\n",
        "game_info[['white_first_name','w_last_name']] = game_info['white'].str.split(',', expand=True)\n",
        "game_info[['black_first_name', 'b_last_name']] = game_info['black'].str.split(\",\", expand=True)\n",
        "game_info[\"white\"] = game_info.white_first_name + \"-\" + game_info.white_result\n",
        "game_info[\"black\"] = game_info.black_first_name + \"-\" + game_info.black_result\n",
        "game_info.head()"
      ]
    },
    {
      "cell_type": "markdown",
      "metadata": {
        "id": "KAl3bP04yElo"
      },
      "source": [
        "### Marge dataset"
      ]
    },
    {
      "cell_type": "code",
      "execution_count": null,
      "metadata": {
        "id": "ABqjOW-wyEls"
      },
      "outputs": [],
      "source": [
        "# merge 1\n",
        "df = pd.merge(game_info, moves_df, how='left', on='game_id')\n",
        "\n",
        "# merge2\n",
        "df = pd.merge(df, eco_df, how='left', on='eco')\n",
        "df.head()"
      ]
    },
    {
      "cell_type": "markdown",
      "metadata": {
        "id": "OuguWCuiyElt"
      },
      "source": [
        "### Q.1. List of winners of each world champions Trophy"
      ]
    },
    {
      "cell_type": "code",
      "execution_count": null,
      "metadata": {
        "id": "EpooMiFcyElu"
      },
      "outputs": [],
      "source": [
        "\n",
        "winners_per_tournament = pd.DataFrame(game_info.groupby(['tournament_name','winner']).winner.count()).rename(columns={'winner':'score'}).reset_index()\n",
        "winners_per_tournament = winners_per_tournament[winners_per_tournament.winner != 'draw']\n",
        "winners_per_tournament = winners_per_tournament.loc[winners_per_tournament.groupby(['tournament_name'])['score'].idxmax()]\n",
        "winners_per_tournament"
      ]
    },
    {
      "cell_type": "markdown",
      "metadata": {
        "id": "wqLJYPFhyElw"
      },
      "source": [
        "### Q. List of Players with number of times they have won Tournament in descending order(Max to min).\n",
        "\n",
        "Result attributes: player_name, number_of_wins"
      ]
    },
    {
      "cell_type": "code",
      "execution_count": null,
      "metadata": {
        "id": "3y-Ri125yElx"
      },
      "outputs": [],
      "source": [
        "winners_per_tournament.sort_values('score', ascending=False)[['winner', 'score']]"
      ]
    },
    {
      "cell_type": "markdown",
      "metadata": {
        "id": "6XevRbA9yEly"
      },
      "source": [
        "### Q.3. Most and Least Popular eco move in world championship history."
      ]
    },
    {
      "cell_type": "code",
      "execution_count": null,
      "metadata": {
        "id": "CHWvmX3byEly"
      },
      "outputs": [],
      "source": [
        "eco_moves = pd.DataFrame(game_info.groupby('eco').eco.count()).rename(columns={'eco':'count'}).reset_index()\n",
        "\n",
        "# most popular \n",
        "print(\"Most popular moves:\")\n",
        "print(eco_moves.sort_values('count', ascending=False).head(1))\n",
        "print()\n",
        "\n",
        "# least popular\n",
        "print(\"Least popular moves\")\n",
        "print(eco_moves.sort_values('count', ascending=True).head(1))"
      ]
    },
    {
      "cell_type": "markdown",
      "metadata": {
        "id": "Xzvp98psyElz"
      },
      "source": [
        "### Q.4. Find the eco move with most winnings."
      ]
    },
    {
      "cell_type": "code",
      "execution_count": null,
      "metadata": {
        "id": "glZ8hvNtyEl1"
      },
      "outputs": [],
      "source": [
        "eco_move_win = pd.DataFrame(game_info[game_info.winner != 'draw'].groupby(['eco']).winner.count()).rename(columns={'winner':'wins'})\n",
        "eco_move_win = pd.merge(eco_move_win, eco_df[['eco','eco_name']], how='left', on='eco')\n",
        "eco_move_win.max()"
      ]
    },
    {
      "cell_type": "markdown",
      "metadata": {
        "id": "T-rrkeqwyEl3"
      },
      "source": [
        "### Q.5. Longest and shortest game ever played in a world championship in terms of move."
      ]
    },
    {
      "cell_type": "code",
      "execution_count": null,
      "metadata": {
        "id": "v_0Dm3_LyEl4"
      },
      "outputs": [],
      "source": [
        "game_time = pd.DataFrame(df.groupby(['game_id', 'event', 'tournament_name']).move_no.max()).rename(columns={'move_no':'number_of_moves'}).reset_index()\n",
        "print(\"Longest game ever played: \")\n",
        "game_time.max()"
      ]
    },
    {
      "cell_type": "code",
      "execution_count": null,
      "metadata": {
        "id": "iQadvoNyyEl5"
      },
      "outputs": [],
      "source": [
        "print(\"Shortest game ever played: \")\n",
        "game_time.min()"
      ]
    },
    {
      "cell_type": "markdown",
      "metadata": {
        "id": "UBmo-8JMyEl6"
      },
      "source": [
        "### Q.6. Shortest and Longest Draw game ever played"
      ]
    },
    {
      "cell_type": "code",
      "execution_count": null,
      "metadata": {
        "id": "Lp-2yZY6yEl6"
      },
      "outputs": [],
      "source": [
        "draw_games = df[df.winner=='draw']\n",
        "draw_games_time = pd.DataFrame(draw_games.groupby(['game_id','event', 'tournament_name']).move_no.count()).rename(columns={'move_no':'number_of_moves'}).reset_index()\n",
        "\n",
        "print(\"Longest draw game ever played: \")\n",
        "print(draw_games_time.max())\n",
        "print()\n",
        "\n",
        "print(\"Shortest draw game ever played: \")\n",
        "print(draw_games_time.min())\n"
      ]
    },
    {
      "cell_type": "markdown",
      "metadata": {
        "id": "fn5g1gWhyEl8"
      },
      "source": [
        "### Q.7. Most and Least rated Player"
      ]
    },
    {
      "cell_type": "code",
      "execution_count": null,
      "metadata": {
        "id": "M-b3u3ZZyEl8"
      },
      "outputs": [],
      "source": [
        "# Most rated player:\n",
        "print(\"Most rated player: \")\n",
        "winner_elo = pd.DataFrame(game_info[game_info.winner != 'draw'].groupby(['winner']).winner_elo.sum()).reset_index().rename(columns={'winner':'player_name', 'winner_elo':'elo'})\n",
        "winner_elo.max()"
      ]
    },
    {
      "cell_type": "code",
      "execution_count": null,
      "metadata": {
        "id": "OZ_ru3wYyEl9"
      },
      "outputs": [],
      "source": [
        "# Least rated player\n",
        "print(\"Least rated player: \")\n",
        "least_rated_player = pd.DataFrame(game_info[game_info.winner != 'draw'].groupby(['loser']).loser_elo.sum()).reset_index().rename(columns={'loser':'player_name', 'loser_elo':'elo'})\n",
        "least_rated_player.min()"
      ]
    },
    {
      "cell_type": "markdown",
      "metadata": {
        "id": "lyNvCw3dyEl-"
      },
      "source": [
        "### Q.8. 3rd Last Player with most loss"
      ]
    },
    {
      "cell_type": "code",
      "execution_count": null,
      "metadata": {
        "id": "vmPCWR-MyEl-"
      },
      "outputs": [],
      "source": [
        "loss_df = game_info[game_info.winner !='draw'].groupby(['loser']).loser.count().sort_values()\n",
        "loss_df[2:3]"
      ]
    },
    {
      "cell_type": "markdown",
      "metadata": {
        "id": "_sLMpJu0yEl_"
      },
      "source": [
        "### Q.9. How many times players with low rating won matches with their total win Count."
      ]
    },
    {
      "cell_type": "code",
      "execution_count": null,
      "metadata": {
        "id": "xZ5MhGq-yEl_"
      },
      "outputs": [],
      "source": [
        "# Number of wins\n",
        "win_count = pd.DataFrame(game_info[game_info.winner!='draw'].groupby(['winner']).winner.count().sort_values()).rename(columns={'winner':'win_count'}).reset_index().rename(columns={'winner':'player_name'})\n",
        "\n",
        "# merge win count with win elo\n",
        "win_elo_df = pd.merge(winner_elo, win_count, how='left', on='player_name')\n",
        "\n",
        "# win of lowest rating players\n",
        "win_elo_df.loc[win_elo_df.elo == win_elo_df.elo.min()]"
      ]
    },
    {
      "cell_type": "markdown",
      "metadata": {
        "id": "7NpWds9WyEl_"
      },
      "source": [
        "### Q.10. Move sequence for each player in a match"
      ]
    },
    {
      "cell_type": "code",
      "execution_count": null,
      "metadata": {
        "id": "SC06Qfd5yEmA"
      },
      "outputs": [],
      "source": [
        "move_sequence_df = pd.pivot_table(data=moves_df, index=['game_id','player'], columns=['move_sequence'], values=['move_no'], aggfunc='max')\n",
        "# move_sequence_df.head()"
      ]
    },
    {
      "cell_type": "markdown",
      "metadata": {
        "id": "1cDIZNqByEmA"
      },
      "source": [
        "### Q.11. Total number of games where losing player has more captured score than winning player.\n",
        "Hint: Captured score is cumulative, i.e., for 3rd capture it will have score for 1, 2, and 3rd.\n",
        "Result attributes: total_number_of_games Final result will have only one row"
      ]
    },
    {
      "cell_type": "code",
      "execution_count": null,
      "metadata": {
        "id": "5iAfL0QtyEmA"
      },
      "outputs": [],
      "source": [
        "game_info.head()"
      ]
    },
    {
      "cell_type": "code",
      "execution_count": null,
      "metadata": {
        "id": "SKP6sHRoyEmB"
      },
      "outputs": [],
      "source": [
        "def result(row):\n",
        "    if len(row) == 1:\n",
        "        return int(row)\n",
        "    else:\n",
        "        x,y = row.split('/')\n",
        "        res = int(x)/int(y)\n",
        "        return res\n",
        "\n",
        "\n",
        "game_info.black_result = game_info.black_result.apply(result)\n",
        "game_info.white_result = game_info.white_result.apply(result)"
      ]
    },
    {
      "cell_type": "code",
      "execution_count": null,
      "metadata": {
        "id": "88yKXDqzyEmB"
      },
      "outputs": [],
      "source": [
        "white_result = game_info.groupby(['game_id','white_first_name']).white_result.sum()\n",
        "black_result = game_info.groupby(['game_id','black_first_name']).black_result.sum()\n"
      ]
    },
    {
      "cell_type": "markdown",
      "metadata": {
        "id": "z_yHDW3iyEmC"
      },
      "source": [
        "### Q.12. List All Perfect Tournament with Winner Name.\n",
        "\n",
        "Chess Funda: Perfect Tournament means a player has won all the matches excluding draw matches. e.g Player A has won 5 matches out of 7\n",
        "Matches in tournament where 2 matches are draw and player B has won 0 matches)\n",
        "Result attributes: winner_name, tournament_name"
      ]
    },
    {
      "cell_type": "code",
      "execution_count": null,
      "metadata": {
        "id": "ed2D9YvJyEmC"
      },
      "outputs": [],
      "source": [
        "game_info['winner_name','tournament_name'].value_count()"
      ]
    },
    {
      "cell_type": "markdown",
      "metadata": {
        "id": "L0s41kXgyEmD"
      },
      "source": [
        "### Q.13. Player with highest winning ratio.\n",
        "Hint: Winning ratio: (Number of rounds won)/(Number of rounds played)\n",
        "Result attributes: player_name\n",
        "Final result will have only one row"
      ]
    },
    {
      "cell_type": "code",
      "execution_count": null,
      "metadata": {
        "id": "AwTLzlCAyEmD"
      },
      "outputs": [],
      "source": [
        "game_info[\"w_full_name\"] = game_info.white_first_name + ' ' + game_info.w_last_name\n",
        "game_info['b_full_name'] = game_info.black_first_name + ' ' + game_info.b_last_name"
      ]
    },
    {
      "cell_type": "code",
      "execution_count": null,
      "metadata": {
        "id": "DIQGPQC0yEmE"
      },
      "outputs": [],
      "source": [
        "number_of_rounds_played_by_white = pd.DataFrame(game_info.groupby('w_full_name').w_full_name.count()).rename(columns={'w_full_name':'count'}).reset_index().rename(columns={'w_full_name':'player_name'})\n",
        "number_of_rounds_played_by_black = pd.DataFrame(game_info.groupby('b_full_name').b_full_name.count()).rename(columns={'b_full_name':'count'}).reset_index().rename(columns={'b_full_name':'player_name'})\n",
        "# number_of_players_per_player = number_of_rounds_played_by_white.add(number_of_rounds_played_by_black)\n",
        "# number_of_players_per_player\n",
        "s1 = number_of_rounds_played_by_black.set_index('player_name')['count']\n",
        "s2 = number_of_rounds_played_by_white.set_index('player_name')['count']\n",
        "number_of_players_per_player = s1.add(s2, fill_value=0).reset_index(name='count')\n",
        "number_of_players_per_player.head()"
      ]
    },
    {
      "cell_type": "markdown",
      "metadata": {
        "id": "EOhq2IUzyEmE"
      },
      "source": [
        "**Names need to be cleaned.**"
      ]
    },
    {
      "cell_type": "code",
      "execution_count": null,
      "metadata": {
        "id": "Pv7-dRWayEmF"
      },
      "outputs": [],
      "source": [
        "# number of wins\n",
        "number_wins = pd.DataFrame(game_info[game_info.winner !='draw'].groupby(['winner']).winner.count()).rename(columns={'winner':'count'}).reset_index().rename(columns={'winner':'player_name'})\n",
        "# number_wins.player_name = number_wins.player_name.apply(lambda x: x.split(',')[0])\n",
        "number_wins['first_name'] = number_wins.player_name.apply(lambda x: x.split(',')[0])\n",
        "# number_wins['last_name'] = number_wins.player_name.apply(lambda x: x.split(',')[1])\n",
        "number_wins.head()\n"
      ]
    },
    {
      "cell_type": "markdown",
      "metadata": {
        "id": "4KjxKPmtyEmG"
      },
      "source": [
        "### Q.14. Player who had given checkmate with Pawn.\n",
        "Note: Consider all events for this query\n",
        "Result attributes: player_name\n",
        "Final result will have only one row"
      ]
    },
    {
      "cell_type": "code",
      "execution_count": null,
      "metadata": {
        "id": "78dJzGv8yEmG"
      },
      "outputs": [],
      "source": []
    },
    {
      "cell_type": "markdown",
      "metadata": {
        "id": "cuizexiUyEmH"
      },
      "source": [
        "### Q.15. List games where player has won game without queen.\n",
        "Result attributes: game_id, event, player_name"
      ]
    },
    {
      "cell_type": "code",
      "execution_count": null,
      "metadata": {
        "id": "qKcO3Yh-yEmH"
      },
      "outputs": [],
      "source": []
    }
  ],
  "metadata": {
    "kernelspec": {
      "display_name": "Python 3.10.6 64-bit",
      "language": "python",
      "name": "python3"
    },
    "language_info": {
      "codemirror_mode": {
        "name": "ipython",
        "version": 3
      },
      "file_extension": ".py",
      "mimetype": "text/x-python",
      "name": "python",
      "nbconvert_exporter": "python",
      "pygments_lexer": "ipython3",
      "version": "3.10.6"
    },
    "orig_nbformat": 4,
    "vscode": {
      "interpreter": {
        "hash": "916dbcbb3f70747c44a77c7bcd40155683ae19c65e1c03b4aa3499c5328201f1"
      }
    },
    "colab": {
      "provenance": [],
      "include_colab_link": true
    }
  },
  "nbformat": 4,
  "nbformat_minor": 0
}